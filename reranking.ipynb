{
  "nbformat": 4,
  "nbformat_minor": 0,
  "metadata": {
    "colab": {
      "provenance": [],
      "include_colab_link": true
    },
    "kernelspec": {
      "name": "python3",
      "display_name": "Python 3"
    }
  },
  "cells": [
    {
      "cell_type": "markdown",
      "metadata": {
        "id": "view-in-github",
        "colab_type": "text"
      },
      "source": [
        "<a href=\"https://colab.research.google.com/github/kedaarchakankar/CY2550/blob/master/reranking.ipynb\" target=\"_parent\"><img src=\"https://colab.research.google.com/assets/colab-badge.svg\" alt=\"Open In Colab\"/></a>"
      ]
    },
    {
      "cell_type": "markdown",
      "metadata": {
        "id": "vUpmSFflwzR1"
      },
      "source": [
        "# Reranking Retrieval Results"
      ]
    },
    {
      "cell_type": "markdown",
      "metadata": {
        "id": "-2PzgU4YxIl3"
      },
      "source": [
        "In this notebook, you will continue using the [Pyserini](http://pyserini.io/) library's indexing and retrieval models.  This time, however, you will get an initial set of retrieval results and then write your own reranking code to try to move relevant documents higher in the list."
      ]
    },
    {
      "cell_type": "markdown",
      "metadata": {
        "id": "f2vNd7bpJlDZ"
      },
      "source": [
        "As before, we start by installing the python interface. Since it calls the underlying Lucene search engine, which is written in Java, we make sure we point to an appropriate Java installation. If like Colab you don't have Java 21, uncomment the following code and run it, or whatever makes sense for your platform."
      ]
    },
    {
      "cell_type": "code",
      "source": [
        "## Uncomment the following code to install Java 21 on Colab\n",
        "!apt-get install openjdk-21-jre-headless -qq > /dev/null\n",
        "import os\n",
        "os.environ[\"JAVA_HOME\"] = \"/usr/lib/jvm/java-21-openjdk-amd64\"\n",
        "!update-alternatives --set java /usr/lib/jvm/java-21-openjdk-amd64/bin/java\n",
        "!java -version"
      ],
      "metadata": {
        "colab": {
          "base_uri": "https://localhost:8080/"
        },
        "id": "nBDwrCizYdak",
        "outputId": "9e0a3e8a-058e-465a-dcf1-16dd1e304a48"
      },
      "execution_count": 1,
      "outputs": [
        {
          "output_type": "stream",
          "name": "stdout",
          "text": [
            "openjdk version \"21.0.6\" 2025-01-21\n",
            "OpenJDK Runtime Environment (build 21.0.6+7-Ubuntu-122.04.1)\n",
            "OpenJDK 64-Bit Server VM (build 21.0.6+7-Ubuntu-122.04.1, mixed mode, sharing)\n"
          ]
        }
      ]
    },
    {
      "cell_type": "code",
      "metadata": {
        "id": "E_lt0-pXJia0",
        "colab": {
          "base_uri": "https://localhost:8080/"
        },
        "outputId": "53c6767e-5c5e-411d-836b-008f1dfb17fd"
      },
      "source": [
        "!pip install pyserini\n",
        "# You can change this to gpu if you have one.\n",
        "# It's a pyserini dependency, but we won't need it until the next assignment.\n",
        "!pip install faiss-cpu"
      ],
      "execution_count": 2,
      "outputs": [
        {
          "output_type": "stream",
          "name": "stdout",
          "text": [
            "Collecting pyserini\n",
            "  Downloading pyserini-0.44.0.tar.gz (195.3 MB)\n",
            "\u001b[2K     \u001b[90m━━━━━━━━━━━━━━━━━━━━━━━━━━━━━━━━━━━━━━━\u001b[0m \u001b[32m195.3/195.3 MB\u001b[0m \u001b[31m6.1 MB/s\u001b[0m eta \u001b[36m0:00:00\u001b[0m\n",
            "\u001b[?25h  Installing build dependencies ... \u001b[?25l\u001b[?25hdone\n",
            "  Getting requirements to build wheel ... \u001b[?25l\u001b[?25hdone\n",
            "  Preparing metadata (pyproject.toml) ... \u001b[?25l\u001b[?25hdone\n",
            "Requirement already satisfied: tqdm in /usr/local/lib/python3.11/dist-packages (from pyserini) (4.67.1)\n",
            "Requirement already satisfied: pyyaml in /usr/local/lib/python3.11/dist-packages (from pyserini) (6.0.2)\n",
            "Requirement already satisfied: requests in /usr/local/lib/python3.11/dist-packages (from pyserini) (2.32.3)\n",
            "Requirement already satisfied: Cython>=0.29.21 in /usr/local/lib/python3.11/dist-packages (from pyserini) (3.0.12)\n",
            "Requirement already satisfied: numpy>=1.18.1 in /usr/local/lib/python3.11/dist-packages (from pyserini) (2.0.2)\n",
            "Requirement already satisfied: pandas>=1.4.0 in /usr/local/lib/python3.11/dist-packages (from pyserini) (2.2.2)\n",
            "Collecting pyjnius>=1.6.0 (from pyserini)\n",
            "  Downloading pyjnius-1.6.1-cp311-cp311-manylinux_2_17_x86_64.manylinux2014_x86_64.whl.metadata (10 kB)\n",
            "Requirement already satisfied: scikit-learn>=0.22.1 in /usr/local/lib/python3.11/dist-packages (from pyserini) (1.6.1)\n",
            "Requirement already satisfied: scipy>=1.4.1 in /usr/local/lib/python3.11/dist-packages (from pyserini) (1.14.1)\n",
            "Requirement already satisfied: transformers>=4.6.0 in /usr/local/lib/python3.11/dist-packages (from pyserini) (4.51.1)\n",
            "Requirement already satisfied: torch>=2.4.0 in /usr/local/lib/python3.11/dist-packages (from pyserini) (2.6.0+cu124)\n",
            "Collecting onnxruntime>=1.8.1 (from pyserini)\n",
            "  Downloading onnxruntime-1.21.0-cp311-cp311-manylinux_2_27_x86_64.manylinux_2_28_x86_64.whl.metadata (4.5 kB)\n",
            "Requirement already satisfied: openai>=1.0.0 in /usr/local/lib/python3.11/dist-packages (from pyserini) (1.72.0)\n",
            "Requirement already satisfied: sentencepiece>=0.2 in /usr/local/lib/python3.11/dist-packages (from pyserini) (0.2.0)\n",
            "Collecting tiktoken>=0.4.0 (from pyserini)\n",
            "  Downloading tiktoken-0.9.0-cp311-cp311-manylinux_2_17_x86_64.manylinux2014_x86_64.whl.metadata (6.7 kB)\n",
            "Requirement already satisfied: flask>3.0 in /usr/local/lib/python3.11/dist-packages (from pyserini) (3.1.0)\n",
            "Requirement already satisfied: pillow>=10.2.0 in /usr/local/lib/python3.11/dist-packages (from pyserini) (11.1.0)\n",
            "Requirement already satisfied: Werkzeug>=3.1 in /usr/local/lib/python3.11/dist-packages (from flask>3.0->pyserini) (3.1.3)\n",
            "Requirement already satisfied: Jinja2>=3.1.2 in /usr/local/lib/python3.11/dist-packages (from flask>3.0->pyserini) (3.1.6)\n",
            "Requirement already satisfied: itsdangerous>=2.2 in /usr/local/lib/python3.11/dist-packages (from flask>3.0->pyserini) (2.2.0)\n",
            "Requirement already satisfied: click>=8.1.3 in /usr/local/lib/python3.11/dist-packages (from flask>3.0->pyserini) (8.1.8)\n",
            "Requirement already satisfied: blinker>=1.9 in /usr/local/lib/python3.11/dist-packages (from flask>3.0->pyserini) (1.9.0)\n",
            "Collecting coloredlogs (from onnxruntime>=1.8.1->pyserini)\n",
            "  Downloading coloredlogs-15.0.1-py2.py3-none-any.whl.metadata (12 kB)\n",
            "Requirement already satisfied: flatbuffers in /usr/local/lib/python3.11/dist-packages (from onnxruntime>=1.8.1->pyserini) (25.2.10)\n",
            "Requirement already satisfied: packaging in /usr/local/lib/python3.11/dist-packages (from onnxruntime>=1.8.1->pyserini) (24.2)\n",
            "Requirement already satisfied: protobuf in /usr/local/lib/python3.11/dist-packages (from onnxruntime>=1.8.1->pyserini) (5.29.4)\n",
            "Requirement already satisfied: sympy in /usr/local/lib/python3.11/dist-packages (from onnxruntime>=1.8.1->pyserini) (1.13.1)\n",
            "Requirement already satisfied: anyio<5,>=3.5.0 in /usr/local/lib/python3.11/dist-packages (from openai>=1.0.0->pyserini) (4.9.0)\n",
            "Requirement already satisfied: distro<2,>=1.7.0 in /usr/local/lib/python3.11/dist-packages (from openai>=1.0.0->pyserini) (1.9.0)\n",
            "Requirement already satisfied: httpx<1,>=0.23.0 in /usr/local/lib/python3.11/dist-packages (from openai>=1.0.0->pyserini) (0.28.1)\n",
            "Requirement already satisfied: jiter<1,>=0.4.0 in /usr/local/lib/python3.11/dist-packages (from openai>=1.0.0->pyserini) (0.9.0)\n",
            "Requirement already satisfied: pydantic<3,>=1.9.0 in /usr/local/lib/python3.11/dist-packages (from openai>=1.0.0->pyserini) (2.11.3)\n",
            "Requirement already satisfied: sniffio in /usr/local/lib/python3.11/dist-packages (from openai>=1.0.0->pyserini) (1.3.1)\n",
            "Requirement already satisfied: typing-extensions<5,>=4.11 in /usr/local/lib/python3.11/dist-packages (from openai>=1.0.0->pyserini) (4.13.1)\n",
            "Requirement already satisfied: python-dateutil>=2.8.2 in /usr/local/lib/python3.11/dist-packages (from pandas>=1.4.0->pyserini) (2.8.2)\n",
            "Requirement already satisfied: pytz>=2020.1 in /usr/local/lib/python3.11/dist-packages (from pandas>=1.4.0->pyserini) (2025.2)\n",
            "Requirement already satisfied: tzdata>=2022.7 in /usr/local/lib/python3.11/dist-packages (from pandas>=1.4.0->pyserini) (2025.2)\n",
            "Requirement already satisfied: joblib>=1.2.0 in /usr/local/lib/python3.11/dist-packages (from scikit-learn>=0.22.1->pyserini) (1.4.2)\n",
            "Requirement already satisfied: threadpoolctl>=3.1.0 in /usr/local/lib/python3.11/dist-packages (from scikit-learn>=0.22.1->pyserini) (3.6.0)\n",
            "Requirement already satisfied: regex>=2022.1.18 in /usr/local/lib/python3.11/dist-packages (from tiktoken>=0.4.0->pyserini) (2024.11.6)\n",
            "Requirement already satisfied: charset-normalizer<4,>=2 in /usr/local/lib/python3.11/dist-packages (from requests->pyserini) (3.4.1)\n",
            "Requirement already satisfied: idna<4,>=2.5 in /usr/local/lib/python3.11/dist-packages (from requests->pyserini) (3.10)\n",
            "Requirement already satisfied: urllib3<3,>=1.21.1 in /usr/local/lib/python3.11/dist-packages (from requests->pyserini) (2.3.0)\n",
            "Requirement already satisfied: certifi>=2017.4.17 in /usr/local/lib/python3.11/dist-packages (from requests->pyserini) (2025.1.31)\n",
            "Requirement already satisfied: filelock in /usr/local/lib/python3.11/dist-packages (from torch>=2.4.0->pyserini) (3.18.0)\n",
            "Requirement already satisfied: networkx in /usr/local/lib/python3.11/dist-packages (from torch>=2.4.0->pyserini) (3.4.2)\n",
            "Requirement already satisfied: fsspec in /usr/local/lib/python3.11/dist-packages (from torch>=2.4.0->pyserini) (2025.3.2)\n",
            "Collecting nvidia-cuda-nvrtc-cu12==12.4.127 (from torch>=2.4.0->pyserini)\n",
            "  Downloading nvidia_cuda_nvrtc_cu12-12.4.127-py3-none-manylinux2014_x86_64.whl.metadata (1.5 kB)\n",
            "Collecting nvidia-cuda-runtime-cu12==12.4.127 (from torch>=2.4.0->pyserini)\n",
            "  Downloading nvidia_cuda_runtime_cu12-12.4.127-py3-none-manylinux2014_x86_64.whl.metadata (1.5 kB)\n",
            "Collecting nvidia-cuda-cupti-cu12==12.4.127 (from torch>=2.4.0->pyserini)\n",
            "  Downloading nvidia_cuda_cupti_cu12-12.4.127-py3-none-manylinux2014_x86_64.whl.metadata (1.6 kB)\n",
            "Collecting nvidia-cudnn-cu12==9.1.0.70 (from torch>=2.4.0->pyserini)\n",
            "  Downloading nvidia_cudnn_cu12-9.1.0.70-py3-none-manylinux2014_x86_64.whl.metadata (1.6 kB)\n",
            "Collecting nvidia-cublas-cu12==12.4.5.8 (from torch>=2.4.0->pyserini)\n",
            "  Downloading nvidia_cublas_cu12-12.4.5.8-py3-none-manylinux2014_x86_64.whl.metadata (1.5 kB)\n",
            "Collecting nvidia-cufft-cu12==11.2.1.3 (from torch>=2.4.0->pyserini)\n",
            "  Downloading nvidia_cufft_cu12-11.2.1.3-py3-none-manylinux2014_x86_64.whl.metadata (1.5 kB)\n",
            "Collecting nvidia-curand-cu12==10.3.5.147 (from torch>=2.4.0->pyserini)\n",
            "  Downloading nvidia_curand_cu12-10.3.5.147-py3-none-manylinux2014_x86_64.whl.metadata (1.5 kB)\n",
            "Collecting nvidia-cusolver-cu12==11.6.1.9 (from torch>=2.4.0->pyserini)\n",
            "  Downloading nvidia_cusolver_cu12-11.6.1.9-py3-none-manylinux2014_x86_64.whl.metadata (1.6 kB)\n",
            "Collecting nvidia-cusparse-cu12==12.3.1.170 (from torch>=2.4.0->pyserini)\n",
            "  Downloading nvidia_cusparse_cu12-12.3.1.170-py3-none-manylinux2014_x86_64.whl.metadata (1.6 kB)\n",
            "Requirement already satisfied: nvidia-cusparselt-cu12==0.6.2 in /usr/local/lib/python3.11/dist-packages (from torch>=2.4.0->pyserini) (0.6.2)\n",
            "Requirement already satisfied: nvidia-nccl-cu12==2.21.5 in /usr/local/lib/python3.11/dist-packages (from torch>=2.4.0->pyserini) (2.21.5)\n",
            "Requirement already satisfied: nvidia-nvtx-cu12==12.4.127 in /usr/local/lib/python3.11/dist-packages (from torch>=2.4.0->pyserini) (12.4.127)\n",
            "Collecting nvidia-nvjitlink-cu12==12.4.127 (from torch>=2.4.0->pyserini)\n",
            "  Downloading nvidia_nvjitlink_cu12-12.4.127-py3-none-manylinux2014_x86_64.whl.metadata (1.5 kB)\n",
            "Requirement already satisfied: triton==3.2.0 in /usr/local/lib/python3.11/dist-packages (from torch>=2.4.0->pyserini) (3.2.0)\n",
            "Requirement already satisfied: mpmath<1.4,>=1.1.0 in /usr/local/lib/python3.11/dist-packages (from sympy->onnxruntime>=1.8.1->pyserini) (1.3.0)\n",
            "Requirement already satisfied: huggingface-hub<1.0,>=0.30.0 in /usr/local/lib/python3.11/dist-packages (from transformers>=4.6.0->pyserini) (0.30.2)\n",
            "Requirement already satisfied: tokenizers<0.22,>=0.21 in /usr/local/lib/python3.11/dist-packages (from transformers>=4.6.0->pyserini) (0.21.1)\n",
            "Requirement already satisfied: safetensors>=0.4.3 in /usr/local/lib/python3.11/dist-packages (from transformers>=4.6.0->pyserini) (0.5.3)\n",
            "Requirement already satisfied: httpcore==1.* in /usr/local/lib/python3.11/dist-packages (from httpx<1,>=0.23.0->openai>=1.0.0->pyserini) (1.0.7)\n",
            "Requirement already satisfied: h11<0.15,>=0.13 in /usr/local/lib/python3.11/dist-packages (from httpcore==1.*->httpx<1,>=0.23.0->openai>=1.0.0->pyserini) (0.14.0)\n",
            "Requirement already satisfied: MarkupSafe>=2.0 in /usr/local/lib/python3.11/dist-packages (from Jinja2>=3.1.2->flask>3.0->pyserini) (3.0.2)\n",
            "Requirement already satisfied: annotated-types>=0.6.0 in /usr/local/lib/python3.11/dist-packages (from pydantic<3,>=1.9.0->openai>=1.0.0->pyserini) (0.7.0)\n",
            "Requirement already satisfied: pydantic-core==2.33.1 in /usr/local/lib/python3.11/dist-packages (from pydantic<3,>=1.9.0->openai>=1.0.0->pyserini) (2.33.1)\n",
            "Requirement already satisfied: typing-inspection>=0.4.0 in /usr/local/lib/python3.11/dist-packages (from pydantic<3,>=1.9.0->openai>=1.0.0->pyserini) (0.4.0)\n",
            "Requirement already satisfied: six>=1.5 in /usr/local/lib/python3.11/dist-packages (from python-dateutil>=2.8.2->pandas>=1.4.0->pyserini) (1.17.0)\n",
            "Collecting humanfriendly>=9.1 (from coloredlogs->onnxruntime>=1.8.1->pyserini)\n",
            "  Downloading humanfriendly-10.0-py2.py3-none-any.whl.metadata (9.2 kB)\n",
            "Downloading onnxruntime-1.21.0-cp311-cp311-manylinux_2_27_x86_64.manylinux_2_28_x86_64.whl (16.0 MB)\n",
            "\u001b[2K   \u001b[90m━━━━━━━━━━━━━━━━━━━━━━━━━━━━━━━━━━━━━━━━\u001b[0m \u001b[32m16.0/16.0 MB\u001b[0m \u001b[31m86.6 MB/s\u001b[0m eta \u001b[36m0:00:00\u001b[0m\n",
            "\u001b[?25hDownloading pyjnius-1.6.1-cp311-cp311-manylinux_2_17_x86_64.manylinux2014_x86_64.whl (1.6 MB)\n",
            "\u001b[2K   \u001b[90m━━━━━━━━━━━━━━━━━━━━━━━━━━━━━━━━━━━━━━━━\u001b[0m \u001b[32m1.6/1.6 MB\u001b[0m \u001b[31m57.3 MB/s\u001b[0m eta \u001b[36m0:00:00\u001b[0m\n",
            "\u001b[?25hDownloading tiktoken-0.9.0-cp311-cp311-manylinux_2_17_x86_64.manylinux2014_x86_64.whl (1.2 MB)\n",
            "\u001b[2K   \u001b[90m━━━━━━━━━━━━━━━━━━━━━━━━━━━━━━━━━━━━━━━━\u001b[0m \u001b[32m1.2/1.2 MB\u001b[0m \u001b[31m49.5 MB/s\u001b[0m eta \u001b[36m0:00:00\u001b[0m\n",
            "\u001b[?25hDownloading nvidia_cublas_cu12-12.4.5.8-py3-none-manylinux2014_x86_64.whl (363.4 MB)\n",
            "\u001b[2K   \u001b[90m━━━━━━━━━━━━━━━━━━━━━━━━━━━━━━━━━━━━━━━━\u001b[0m \u001b[32m363.4/363.4 MB\u001b[0m \u001b[31m4.3 MB/s\u001b[0m eta \u001b[36m0:00:00\u001b[0m\n",
            "\u001b[?25hDownloading nvidia_cuda_cupti_cu12-12.4.127-py3-none-manylinux2014_x86_64.whl (13.8 MB)\n",
            "\u001b[2K   \u001b[90m━━━━━━━━━━━━━━━━━━━━━━━━━━━━━━━━━━━━━━━━\u001b[0m \u001b[32m13.8/13.8 MB\u001b[0m \u001b[31m60.4 MB/s\u001b[0m eta \u001b[36m0:00:00\u001b[0m\n",
            "\u001b[?25hDownloading nvidia_cuda_nvrtc_cu12-12.4.127-py3-none-manylinux2014_x86_64.whl (24.6 MB)\n",
            "\u001b[2K   \u001b[90m━━━━━━━━━━━━━━━━━━━━━━━━━━━━━━━━━━━━━━━━\u001b[0m \u001b[32m24.6/24.6 MB\u001b[0m \u001b[31m33.9 MB/s\u001b[0m eta \u001b[36m0:00:00\u001b[0m\n",
            "\u001b[?25hDownloading nvidia_cuda_runtime_cu12-12.4.127-py3-none-manylinux2014_x86_64.whl (883 kB)\n",
            "\u001b[2K   \u001b[90m━━━━━━━━━━━━━━━━━━━━━━━━━━━━━━━━━━━━━━━━\u001b[0m \u001b[32m883.7/883.7 kB\u001b[0m \u001b[31m36.0 MB/s\u001b[0m eta \u001b[36m0:00:00\u001b[0m\n",
            "\u001b[?25hDownloading nvidia_cudnn_cu12-9.1.0.70-py3-none-manylinux2014_x86_64.whl (664.8 MB)\n",
            "\u001b[2K   \u001b[90m━━━━━━━━━━━━━━━━━━━━━━━━━━━━━━━━━━━━━━━━\u001b[0m \u001b[32m664.8/664.8 MB\u001b[0m \u001b[31m1.3 MB/s\u001b[0m eta \u001b[36m0:00:00\u001b[0m\n",
            "\u001b[?25hDownloading nvidia_cufft_cu12-11.2.1.3-py3-none-manylinux2014_x86_64.whl (211.5 MB)\n",
            "\u001b[2K   \u001b[90m━━━━━━━━━━━━━━━━━━━━━━━━━━━━━━━━━━━━━━━━\u001b[0m \u001b[32m211.5/211.5 MB\u001b[0m \u001b[31m5.4 MB/s\u001b[0m eta \u001b[36m0:00:00\u001b[0m\n",
            "\u001b[?25hDownloading nvidia_curand_cu12-10.3.5.147-py3-none-manylinux2014_x86_64.whl (56.3 MB)\n",
            "\u001b[2K   \u001b[90m━━━━━━━━━━━━━━━━━━━━━━━━━━━━━━━━━━━━━━━━\u001b[0m \u001b[32m56.3/56.3 MB\u001b[0m \u001b[31m15.1 MB/s\u001b[0m eta \u001b[36m0:00:00\u001b[0m\n",
            "\u001b[?25hDownloading nvidia_cusolver_cu12-11.6.1.9-py3-none-manylinux2014_x86_64.whl (127.9 MB)\n",
            "\u001b[2K   \u001b[90m━━━━━━━━━━━━━━━━━━━━━━━━━━━━━━━━━━━━━━━━\u001b[0m \u001b[32m127.9/127.9 MB\u001b[0m \u001b[31m7.2 MB/s\u001b[0m eta \u001b[36m0:00:00\u001b[0m\n",
            "\u001b[?25hDownloading nvidia_cusparse_cu12-12.3.1.170-py3-none-manylinux2014_x86_64.whl (207.5 MB)\n",
            "\u001b[2K   \u001b[90m━━━━━━━━━━━━━━━━━━━━━━━━━━━━━━━━━━━━━━━━\u001b[0m \u001b[32m207.5/207.5 MB\u001b[0m \u001b[31m6.1 MB/s\u001b[0m eta \u001b[36m0:00:00\u001b[0m\n",
            "\u001b[?25hDownloading nvidia_nvjitlink_cu12-12.4.127-py3-none-manylinux2014_x86_64.whl (21.1 MB)\n",
            "\u001b[2K   \u001b[90m━━━━━━━━━━━━━━━━━━━━━━━━━━━━━━━━━━━━━━━━\u001b[0m \u001b[32m21.1/21.1 MB\u001b[0m \u001b[31m83.0 MB/s\u001b[0m eta \u001b[36m0:00:00\u001b[0m\n",
            "\u001b[?25hDownloading coloredlogs-15.0.1-py2.py3-none-any.whl (46 kB)\n",
            "\u001b[2K   \u001b[90m━━━━━━━━━━━━━━━━━━━━━━━━━━━━━━━━━━━━━━━━\u001b[0m \u001b[32m46.0/46.0 kB\u001b[0m \u001b[31m3.2 MB/s\u001b[0m eta \u001b[36m0:00:00\u001b[0m\n",
            "\u001b[?25hDownloading humanfriendly-10.0-py2.py3-none-any.whl (86 kB)\n",
            "\u001b[2K   \u001b[90m━━━━━━━━━━━━━━━━━━━━━━━━━━━━━━━━━━━━━━━━\u001b[0m \u001b[32m86.8/86.8 kB\u001b[0m \u001b[31m6.9 MB/s\u001b[0m eta \u001b[36m0:00:00\u001b[0m\n",
            "\u001b[?25hBuilding wheels for collected packages: pyserini\n",
            "  Building wheel for pyserini (pyproject.toml) ... \u001b[?25l\u001b[?25hdone\n",
            "  Created wheel for pyserini: filename=pyserini-0.44.0-py3-none-any.whl size=195388880 sha256=7f4a2a46ea6ab06c966a80d3f6e94b37910dcb0732218d2995bd4e665a2fe3d5\n",
            "  Stored in directory: /root/.cache/pip/wheels/4d/fb/2c/523bde7d33a5dd4d0da19070ad3c96113f2b0face35a863f25\n",
            "Successfully built pyserini\n",
            "Installing collected packages: pyjnius, nvidia-nvjitlink-cu12, nvidia-curand-cu12, nvidia-cufft-cu12, nvidia-cuda-runtime-cu12, nvidia-cuda-nvrtc-cu12, nvidia-cuda-cupti-cu12, nvidia-cublas-cu12, humanfriendly, tiktoken, nvidia-cusparse-cu12, nvidia-cudnn-cu12, coloredlogs, onnxruntime, nvidia-cusolver-cu12, pyserini\n",
            "  Attempting uninstall: nvidia-nvjitlink-cu12\n",
            "    Found existing installation: nvidia-nvjitlink-cu12 12.5.82\n",
            "    Uninstalling nvidia-nvjitlink-cu12-12.5.82:\n",
            "      Successfully uninstalled nvidia-nvjitlink-cu12-12.5.82\n",
            "  Attempting uninstall: nvidia-curand-cu12\n",
            "    Found existing installation: nvidia-curand-cu12 10.3.6.82\n",
            "    Uninstalling nvidia-curand-cu12-10.3.6.82:\n",
            "      Successfully uninstalled nvidia-curand-cu12-10.3.6.82\n",
            "  Attempting uninstall: nvidia-cufft-cu12\n",
            "    Found existing installation: nvidia-cufft-cu12 11.2.3.61\n",
            "    Uninstalling nvidia-cufft-cu12-11.2.3.61:\n",
            "      Successfully uninstalled nvidia-cufft-cu12-11.2.3.61\n",
            "  Attempting uninstall: nvidia-cuda-runtime-cu12\n",
            "    Found existing installation: nvidia-cuda-runtime-cu12 12.5.82\n",
            "    Uninstalling nvidia-cuda-runtime-cu12-12.5.82:\n",
            "      Successfully uninstalled nvidia-cuda-runtime-cu12-12.5.82\n",
            "  Attempting uninstall: nvidia-cuda-nvrtc-cu12\n",
            "    Found existing installation: nvidia-cuda-nvrtc-cu12 12.5.82\n",
            "    Uninstalling nvidia-cuda-nvrtc-cu12-12.5.82:\n",
            "      Successfully uninstalled nvidia-cuda-nvrtc-cu12-12.5.82\n",
            "  Attempting uninstall: nvidia-cuda-cupti-cu12\n",
            "    Found existing installation: nvidia-cuda-cupti-cu12 12.5.82\n",
            "    Uninstalling nvidia-cuda-cupti-cu12-12.5.82:\n",
            "      Successfully uninstalled nvidia-cuda-cupti-cu12-12.5.82\n",
            "  Attempting uninstall: nvidia-cublas-cu12\n",
            "    Found existing installation: nvidia-cublas-cu12 12.5.3.2\n",
            "    Uninstalling nvidia-cublas-cu12-12.5.3.2:\n",
            "      Successfully uninstalled nvidia-cublas-cu12-12.5.3.2\n",
            "  Attempting uninstall: nvidia-cusparse-cu12\n",
            "    Found existing installation: nvidia-cusparse-cu12 12.5.1.3\n",
            "    Uninstalling nvidia-cusparse-cu12-12.5.1.3:\n",
            "      Successfully uninstalled nvidia-cusparse-cu12-12.5.1.3\n",
            "  Attempting uninstall: nvidia-cudnn-cu12\n",
            "    Found existing installation: nvidia-cudnn-cu12 9.3.0.75\n",
            "    Uninstalling nvidia-cudnn-cu12-9.3.0.75:\n",
            "      Successfully uninstalled nvidia-cudnn-cu12-9.3.0.75\n",
            "  Attempting uninstall: nvidia-cusolver-cu12\n",
            "    Found existing installation: nvidia-cusolver-cu12 11.6.3.83\n",
            "    Uninstalling nvidia-cusolver-cu12-11.6.3.83:\n",
            "      Successfully uninstalled nvidia-cusolver-cu12-11.6.3.83\n",
            "Successfully installed coloredlogs-15.0.1 humanfriendly-10.0 nvidia-cublas-cu12-12.4.5.8 nvidia-cuda-cupti-cu12-12.4.127 nvidia-cuda-nvrtc-cu12-12.4.127 nvidia-cuda-runtime-cu12-12.4.127 nvidia-cudnn-cu12-9.1.0.70 nvidia-cufft-cu12-11.2.1.3 nvidia-curand-cu12-10.3.5.147 nvidia-cusolver-cu12-11.6.1.9 nvidia-cusparse-cu12-12.3.1.170 nvidia-nvjitlink-cu12-12.4.127 onnxruntime-1.21.0 pyjnius-1.6.1 pyserini-0.44.0 tiktoken-0.9.0\n",
            "Collecting faiss-cpu\n",
            "  Downloading faiss_cpu-1.10.0-cp311-cp311-manylinux_2_28_x86_64.whl.metadata (4.4 kB)\n",
            "Requirement already satisfied: numpy<3.0,>=1.25.0 in /usr/local/lib/python3.11/dist-packages (from faiss-cpu) (2.0.2)\n",
            "Requirement already satisfied: packaging in /usr/local/lib/python3.11/dist-packages (from faiss-cpu) (24.2)\n",
            "Downloading faiss_cpu-1.10.0-cp311-cp311-manylinux_2_28_x86_64.whl (30.7 MB)\n",
            "\u001b[2K   \u001b[90m━━━━━━━━━━━━━━━━━━━━━━━━━━━━━━━━━━━━━━━━\u001b[0m \u001b[32m30.7/30.7 MB\u001b[0m \u001b[31m18.5 MB/s\u001b[0m eta \u001b[36m0:00:00\u001b[0m\n",
            "\u001b[?25hInstalling collected packages: faiss-cpu\n",
            "Successfully installed faiss-cpu-1.10.0\n"
          ]
        }
      ]
    },
    {
      "cell_type": "markdown",
      "metadata": {
        "id": "NkD0kKxW9mHP"
      },
      "source": [
        "We initialize the searcher with a pre-built index for the Robust04 collection, which Pyserini will automatically download if it hasn't already. Note that the index takes up 1.6GB of disk."
      ]
    },
    {
      "cell_type": "code",
      "metadata": {
        "id": "zVoAZvuAI_la",
        "colab": {
          "base_uri": "https://localhost:8080/"
        },
        "outputId": "39540d2e-791a-4b34-ac0c-c7dcf8599dc9"
      },
      "source": [
        "from pyserini.search.lucene import LuceneSearcher\n",
        "\n",
        "searcher = LuceneSearcher.from_prebuilt_index('robust04')"
      ],
      "execution_count": 3,
      "outputs": [
        {
          "output_type": "stream",
          "name": "stdout",
          "text": [
            "Downloading index at https://rgw.cs.uwaterloo.ca/pyserini/indexes/lucene/lucene-inverted.disk45.20240803.36f7e3.tar.gz...\n"
          ]
        },
        {
          "output_type": "stream",
          "name": "stderr",
          "text": [
            "lucene-inverted.disk45.20240803.36f7e3.tar.gz: 1.66GB [00:33, 52.6MB/s]                            \n"
          ]
        }
      ]
    },
    {
      "cell_type": "markdown",
      "metadata": {
        "id": "N6xHyonHJDKy"
      },
      "source": [
        "Now we can search for a query and inspect the results:"
      ]
    },
    {
      "cell_type": "code",
      "metadata": {
        "id": "yFZlcqEX0t1f",
        "colab": {
          "base_uri": "https://localhost:8080/"
        },
        "outputId": "cee6119a-64be-465f-8b1c-5c4bcd075da1"
      },
      "source": [
        "hits = searcher.search('black bear attacks', 1000)\n",
        "\n",
        "# Prints the first 10 hits\n",
        "for i in range(0, 10):\n",
        "    print(f'{i+1:2} {hits[i].docid:15} {hits[i].score:.5f}')"
      ],
      "execution_count": 4,
      "outputs": [
        {
          "output_type": "stream",
          "name": "stdout",
          "text": [
            " 1 LA092790-0015   7.06680\n",
            " 2 LA081689-0039   6.89020\n",
            " 3 FBIS4-16530     6.61630\n",
            " 4 LA102589-0076   6.46450\n",
            " 5 FT932-15491     6.25090\n",
            " 6 FBIS3-12276     6.24630\n",
            " 7 LA091090-0085   6.17030\n",
            " 8 FT922-13519     6.04270\n",
            " 9 LA052790-0205   5.94060\n",
            "10 LA103089-0041   5.90650\n"
          ]
        }
      ]
    },
    {
      "cell_type": "markdown",
      "metadata": {
        "id": "emoSTga_7fOB"
      },
      "source": [
        "The `IndexReaderUtils` class provides various methods to read the index directly. For example, we can fetch a raw document from the index given its `docid`:"
      ]
    },
    {
      "cell_type": "code",
      "metadata": {
        "id": "N5ApT1YG71mz",
        "colab": {
          "base_uri": "https://localhost:8080/",
          "height": 547
        },
        "outputId": "310c9599-d878-41d6-fe5a-3be5b0d234bf"
      },
      "source": [
        "from pyserini.index import LuceneIndexReader\n",
        "from IPython.core.display import display, HTML\n",
        "\n",
        "reader = LuceneIndexReader.from_prebuilt_index('robust04')\n",
        "\n",
        "doc = reader.doc('LA092790-0015').raw()\n",
        "display(HTML('<div style=\"font-family: Times New Roman; padding-bottom:10px\">' + doc + '</div>'))"
      ],
      "execution_count": 43,
      "outputs": [
        {
          "output_type": "display_data",
          "data": {
            "text/plain": [
              "<IPython.core.display.HTML object>"
            ],
            "text/html": [
              "<div style=\"font-family: Times New Roman; padding-bottom:10px\"><DATE>\n",
              "<P>\n",
              "September 27, 1990, Thursday, Ventura County Edition\n",
              "</P>\n",
              "</DATE>\n",
              "<HEADLINE>\n",
              "<P>\n",
              "HUNGRY WILDLIFE STRAYING INTO SUBURBS;\n",
              "</P>\n",
              "<P>\n",
              "DROUGHT: FOUR DRY YEARS HAVE PARCHED NATIVE VEGETATION, FORCING BOBCATS, BEARS,\n",
              "MOUNTAIN LIONS, DEER AND COYOTES TO FORAGE CLOSER TO INHABITED AREAS.\n",
              "</P>\n",
              "</HEADLINE>\n",
              "<TEXT>\n",
              "<P>\n",
              "Hungry bobcats, bears and mountain lions -- unable to find food in Ventura\n",
              "County's drought-parched forests -- are being pushed out of their natural\n",
              "habitats to scavenge in rural communities, game officials said Wednesday.\n",
              "</P>\n",
              "<P>\n",
              "Two weeks ago, a black bear ripped the door off a trailer home in Rose Valley\n",
              "just north of Ojai. And within the past month, there have been several reports\n",
              "of mountain lions eating livestock near Los Padres National Forest. Several\n",
              "bobcats have been reported near houses in the Ojai Valley.\n",
              "</P>\n",
              "<P>\n",
              "Authorities say that over the past two years they have received twice the\n",
              "complaints -- about 20 a month -- of wild animals in populated areas. The\n",
              "drought is now in its fourth year in California.\n",
              "</P>\n",
              "<P>\n",
              "\"We've been having more and more conflicts with animals,\" said Capt. Roger\n",
              "Reese, with the state Department of Fish and Game. \"The fact is, it's very dry\n",
              "out there, and there just isn't a lot of food and water for them.\"\n",
              "</P>\n",
              "<P>\n",
              "Animal control officials say they are advising residents in rural areas to be\n",
              "aware of the problem. But so far, no one has been attacked by the wild animals,\n",
              "although there have been such attacks reported elsewhere in Southern\n",
              "California, authorities said.\n",
              "</P>\n",
              "<P>\n",
              "Coyotes have been running amok, officials said. Virtually all parts of the\n",
              "county except beach areas probably have been visited at one time or another by\n",
              "coyotes, said Kathy Jenks, director of the Ventura County Department of Animal\n",
              "Regulation.\n",
              "</P>\n",
              "<P>\n",
              "In Ventura, coyotes are often seen in Grant Park above City Hall, and in Arroyo\n",
              "Verde Park in the Ondulando district on the east side, Jenks said.\n",
              "</P>\n",
              "<P>\n",
              "Elsewhere, coyotes have been seen on streets in Thousand Oaks, Moorpark and\n",
              "Simi Valley. The rural, foothill developments are especially vulnerable, she\n",
              "said.\n",
              "</P>\n",
              "<P>\n",
              "Jenks said she advises residents to keep small pets inside, especially at\n",
              "night.\n",
              "</P>\n",
              "<P>\n",
              "There have even been a few cases in which brazen coyotes have attacked family\n",
              "animals in back yards, and a large number of house cats are disappearing,\n",
              "officials said.\n",
              "</P>\n",
              "<P>\n",
              "\"The common house cat is like a fancy feast for a coyote,\" she said. \"They're\n",
              "hungry, they're thirsty and they're coming down out of the hills.\"\n",
              "</P>\n",
              "<P>\n",
              "There have been a few reports of deer grazing in people's yards, Reese said.\n",
              "</P>\n",
              "<P>\n",
              "Traditionally, September is the worst month for wildlife, authorities said.\n",
              "</P>\n",
              "<P>\n",
              "\"It is usually the driest month,\" Reese said. \"And a lot of animals that have\n",
              "been raised in the spring leave their parents and go in search of food.\"\n",
              "</P>\n",
              "<P>\n",
              "More animals are expected to leave their natural habitats if the drought\n",
              "continues, officials said.\n",
              "</P>\n",
              "<P>\n",
              "\"I tell people who call that if we didn't have the big cats and the coyotes, we\n",
              "would be overrun by rodents,\" Jenks said. \"I would much rather hear a coyote in\n",
              "the distance than have roof rats.\"\n",
              "</P>\n",
              "<P>\n",
              "Don DeBusschere, who lives on a 45-acre walnut orchard in Happy Valley near\n",
              "Ojai, said his family has grown accustomed to wild animals. DeBusschere said he\n",
              "has seen scores of coyotes, several deer and a black bear.\n",
              "</P>\n",
              "<P>\n",
              "Recently, he said, two bobcats have moved into the trees on the edge of his\n",
              "property.\n",
              "</P>\n",
              "<P>\n",
              "\"They're not out to get humans,\" DeBusschere said. \"They're just trying to make\n",
              "a living off the land.\"\n",
              "</P>\n",
              "</TEXT></div>"
            ]
          },
          "metadata": {}
        }
      ]
    },
    {
      "cell_type": "markdown",
      "metadata": {
        "id": "1RMfMgWt8bgm"
      },
      "source": [
        "Note that the result is exactly the same as displaying the hit contents above. Given the raw text, we can obtain its analyzed form (i.e., tokenized, stemmed, stopwords removed, etc.). Here we show the first ten tokens:"
      ]
    },
    {
      "cell_type": "code",
      "source": [
        "analyzed = reader.analyze(doc)\n",
        "analyzed[0:10]"
      ],
      "metadata": {
        "id": "0opezXf5E0IW",
        "outputId": "290a7f45-b2d0-4c7a-c124-90348a522f51",
        "colab": {
          "base_uri": "https://localhost:8080/"
        }
      },
      "execution_count": 11,
      "outputs": [
        {
          "output_type": "execute_result",
          "data": {
            "text/plain": [
              "['date',\n",
              " 'p',\n",
              " 'septemb',\n",
              " '27',\n",
              " '1990',\n",
              " 'thursdai',\n",
              " 'ventura',\n",
              " 'counti',\n",
              " 'edit',\n",
              " 'p']"
            ]
          },
          "metadata": {},
          "execution_count": 11
        }
      ]
    },
    {
      "cell_type": "markdown",
      "source": [
        "## Retrieving Initial Ranked Lists\n",
        "\n",
        "We can load some standard evaluation sets such as Robust04, which contains 250 queries, or \"topics\" as the TREC conferences call them."
      ],
      "metadata": {
        "id": "GOFVMQKLyW1S"
      }
    },
    {
      "cell_type": "code",
      "source": [
        "from pyserini.search import get_topics\n",
        "topics = get_topics('robust04')\n",
        "print(f'{len(topics)} queries total')"
      ],
      "metadata": {
        "colab": {
          "base_uri": "https://localhost:8080/"
        },
        "id": "Q1sdhbDTdwqf",
        "outputId": "4df36fa5-15bd-4dce-cd3c-ef2074536370"
      },
      "execution_count": 12,
      "outputs": [
        {
          "output_type": "stream",
          "name": "stdout",
          "text": [
            "250 queries total\n"
          ]
        }
      ]
    },
    {
      "cell_type": "markdown",
      "source": [
        "The topics are in a dictionary, whose keys are integers uniquely identifying each query. Each topic contains the following fields:\n",
        "\n",
        "* `title`: TREC's term for the brief query a user might actually type;\n",
        "* `description`: a longer form of the query in the form of a complete sentence; and\n",
        "* `narrative`: a description of what the user is looking for and what kinds of results would be relevant or non-relevant."
      ],
      "metadata": {
        "id": "RbODj6sezBvB"
      }
    },
    {
      "cell_type": "code",
      "source": [
        "topics[301]"
      ],
      "metadata": {
        "colab": {
          "base_uri": "https://localhost:8080/"
        },
        "id": "KBOeSkJxy-8R",
        "outputId": "9d6b044e-7de2-44ce-9046-dd43d9cdfbf6"
      },
      "execution_count": 13,
      "outputs": [
        {
          "output_type": "execute_result",
          "data": {
            "text/plain": [
              "{'narrative': 'A relevant document must as a minimum identify the organization and the type of illegal activity (e.g., Columbian cartel exporting cocaine). Vague references to international drug trade without identification of the organization(s) involved would not be relevant.',\n",
              " 'description': 'Identify organizations that participate in international criminal activity, the activity, and, if possible, collaborating organizations and the countries involved.',\n",
              " 'title': 'International Organized Crime'}"
            ]
          },
          "metadata": {},
          "execution_count": 13
        }
      ]
    },
    {
      "cell_type": "markdown",
      "source": [
        "For the purpose of your experiments, we'll divide them into a development and test set."
      ],
      "metadata": {
        "id": "gMbgbZVqyzdj"
      }
    },
    {
      "cell_type": "code",
      "source": [
        "dev_topics = {k:topics[k] for k in list(topics.keys())[:125]}\n",
        "test_topics = {k:topics[k] for k in list(topics.keys())[125:]}"
      ],
      "metadata": {
        "id": "LILkqQDqd3Tj"
      },
      "execution_count": 14,
      "outputs": []
    },
    {
      "cell_type": "markdown",
      "source": [
        "Now, we'll fetch the relevance judgments for the Robust04 queries, which TREC calls \"qrels\"."
      ],
      "metadata": {
        "id": "HTY9-DMyzuU5"
      }
    },
    {
      "cell_type": "code",
      "source": [
        "from urllib.request import urlopen\n",
        "\n",
        "qfile = 'https://github.com/castorini/anserini-tools/blob/63ceeab1dd94c1221f29b931d868e8fab67cc25c/topics-and-qrels/qrels.robust04.txt?raw=true'\n",
        "qrels = []\n",
        "for line in urlopen(qfile):\n",
        "  qid, round, docid, score = line.strip().split()\n",
        "  qrels.append([int(qid), 0, docid.decode('UTF-8'), int(score)])\n",
        "#qrels = [line.strip().split() for line in urlopen(qfile)]"
      ],
      "metadata": {
        "id": "b53vacvvf6fw"
      },
      "execution_count": 15,
      "outputs": []
    },
    {
      "cell_type": "markdown",
      "source": [
        "Each record in the qrel contains four fields:\n",
        "\n",
        "1. the numeric identifier of the query;\n",
        "2. the round of relevance feedback, which is here always 0;\n",
        "3. the identifier of a documennt that has been judged; and\n",
        "4. the relevance score of that document.\n",
        "\n",
        "In Robust04, all relevance judgments are binary, i.e., 1 or 0. Note that not all non-relevant documents are recorded. The qrel file only contains those documents the annotators actually looked at; the vast majority of documents in the collection have not been judged. In IR evaluation, we assume that unannotated documents are non-relevant."
      ],
      "metadata": {
        "id": "BXg8YO590Aky"
      }
    },
    {
      "cell_type": "code",
      "source": [
        "qrels[0:10]"
      ],
      "metadata": {
        "colab": {
          "base_uri": "https://localhost:8080/"
        },
        "id": "ZJblOI_pgZBh",
        "outputId": "efd5c220-bf68-479e-c13d-2790e3fb9887"
      },
      "execution_count": 16,
      "outputs": [
        {
          "output_type": "execute_result",
          "data": {
            "text/plain": [
              "[[301, 0, 'FBIS3-10082', 1],\n",
              " [301, 0, 'FBIS3-10169', 0],\n",
              " [301, 0, 'FBIS3-10243', 1],\n",
              " [301, 0, 'FBIS3-10319', 0],\n",
              " [301, 0, 'FBIS3-10397', 1],\n",
              " [301, 0, 'FBIS3-10491', 1],\n",
              " [301, 0, 'FBIS3-10555', 0],\n",
              " [301, 0, 'FBIS3-10622', 1],\n",
              " [301, 0, 'FBIS3-10634', 0],\n",
              " [301, 0, 'FBIS3-10635', 0]]"
            ]
          },
          "metadata": {},
          "execution_count": 16
        }
      ]
    },
    {
      "cell_type": "markdown",
      "source": [
        "We collect the top 1000 hists for both the dev and test sets. You"
      ],
      "metadata": {
        "id": "aUJ9D9KMHVrD"
      }
    },
    {
      "cell_type": "code",
      "source": [
        "# Compute top-1000 lists for queries in test_topics\n",
        "def topic_hits(searcher, topics, k=1000):\n",
        "  hits = {}\n",
        "  for topic, info in topics.items():\n",
        "    print(topic, info['title'])\n",
        "    hits[topic] = [(hit.docid, hit.score) for hit in searcher.search(info['title'], k)]\n",
        "  return hits\n",
        "\n",
        "dev_hits = topic_hits(searcher, dev_topics)\n",
        "test_hits = topic_hits(searcher, test_topics)"
      ],
      "metadata": {
        "id": "Ue-97Z5nGcH4",
        "outputId": "b8a048a0-b5f2-4691-d095-470125037d43",
        "colab": {
          "base_uri": "https://localhost:8080/"
        }
      },
      "execution_count": 17,
      "outputs": [
        {
          "output_type": "stream",
          "name": "stdout",
          "text": [
            "350 Health and Computer Terminals\n",
            "351 Falkland petroleum exploration\n",
            "352 British Chunnel impact\n",
            "353 Antarctica exploration\n",
            "354 journalist risks\n",
            "355 ocean remote sensing\n",
            "356 postmenopausal estrogen Britain\n",
            "357 territorial waters dispute\n",
            "358 blood-alcohol fatalities\n",
            "359 mutual fund predictors\n",
            "360 drug legalization benefits\n",
            "361 clothing sweatshops\n",
            "362 human smuggling\n",
            "363 transportation tunnel disasters\n",
            "364 rabies\n",
            "365 El Nino\n",
            "366 commercial cyanide uses\n",
            "367 piracy\n",
            "368 in vitro fertilization\n",
            "369 anorexia nervosa bulimia\n",
            "370 food/drug laws\n",
            "371 health insurance holistic\n",
            "372 Native American casino\n",
            "373 encryption equipment export\n",
            "374 Nobel prize winners\n",
            "375 hydrogen energy\n",
            "376 World Court\n",
            "377 cigar smoking\n",
            "378 euro opposition\n",
            "379 mainstreaming\n",
            "380 obesity medical treatment\n",
            "381 alternative medicine\n",
            "382 hydrogen fuel automobiles\n",
            "383 mental illness drugs\n",
            "384 space station moon\n",
            "385 hybrid fuel cars\n",
            "386 teaching disabled children\n",
            "387 radioactive waste\n",
            "388 organic soil enhancement\n",
            "389 illegal technology transfer\n",
            "700 gasoline tax U.S.\n",
            "390 orphan drugs\n",
            "391 R&D drug prices\n",
            "392 robotics\n",
            "393 mercy killing\n",
            "394 home schooling\n",
            "395 tourism\n",
            "396 sick building syndrome\n",
            "397 automobile recalls\n",
            "398 dismantling Europe's arsenal\n",
            "399 oceanographic vessels\n",
            "601 Turkey Iraq water\n",
            "602 Czech, Slovak sovereignty\n",
            "603 Tobacco cigarette lawsuit\n",
            "604 Lyme disease arthritis\n",
            "605 Great Britain health care\n",
            "606 leg traps ban\n",
            "607 human genetic code\n",
            "608 taxing social security\n",
            "609 per capita alcohol consumption\n",
            "610 minimum wage adverse impact\n",
            "611 Kurds Germany violence\n",
            "612 Tibet protesters\n",
            "613 Berlin wall disposal\n",
            "614 Flavr Savr tomato\n",
            "615 timber exports Asia\n",
            "616 Volkswagen Mexico\n",
            "617 Russia Cuba economy\n",
            "618 Ayatollah Khomeini death\n",
            "619 Winnie Mandela scandal\n",
            "620 France nuclear testing\n",
            "621 women ordained Church of England\n",
            "622 price fixing\n",
            "623 toxic chemical weapon\n",
            "624 SDI Star Wars\n",
            "625 arrests bombing WTC\n",
            "626 human stampede\n",
            "627 Russian food crisis\n",
            "628 U.S. invasion of Panama\n",
            "629 abortion clinic attack\n",
            "630 Gulf War Syndrome\n",
            "631 Mandela South Africa President\n",
            "632 southeast Asia tin mining\n",
            "633 Welsh devolution\n",
            "634 L-tryptophan deaths\n",
            "635 doctor assisted suicides\n",
            "636 jury duty exemptions\n",
            "637 human growth hormone (HGH)\n",
            "638 wrongful convictions\n",
            "639 consumer on-line shopping\n",
            "640 maternity leave policies\n",
            "641 Valdez wildlife marine life\n",
            "400 Amazon rain forest\n",
            "642 Tiananmen Square protesters\n",
            "401 foreign minorities, Germany\n",
            "643 salmon dams Pacific northwest\n",
            "402 behavioral genetics\n",
            "644 exotic animals import\n",
            "403 osteoporosis\n",
            "645 software piracy\n",
            "404 Ireland, peace talks\n",
            "646 food stamps increase\n",
            "405 cosmic events\n",
            "647 windmill electricity\n",
            "406 Parkinson's disease\n",
            "648 family leave law\n",
            "407 poaching, wildlife preserves\n",
            "649 computer viruses\n",
            "408 tropical storms\n",
            "409 legal, Pan Am, 103\n",
            "650 tax evasion indicted\n",
            "651 U.S. ethnic population\n",
            "410 Schengen agreement\n",
            "652 OIC Balkans 1990s\n",
            "411 salvaging, shipwreck, treasure\n",
            "653 ETA Basque terrorism\n",
            "412 airport security\n",
            "654 same-sex schools\n",
            "413 steel production\n",
            "655 ADD diagnosis treatment\n",
            "414 Cuba, sugar, exports\n",
            "656 lead poisoning children\n",
            "415 drugs, Golden Triangle\n",
            "657 school prayer banned\n",
            "416 Three Gorges Project\n",
            "658 teenage pregnancy\n",
            "417 creativity\n",
            "659 cruise health safety\n",
            "418 quilts, income\n",
            "419 recycle, automobile tires\n",
            "660 whale watching California\n",
            "661 melanoma treatment causes\n",
            "420 carbon monoxide poisoning\n",
            "662 telemarketer protection\n",
            "421 industrial waste disposal\n",
            "663 Agent Orange exposure\n",
            "301 International Organized Crime\n",
            "422 art, stolen, forged\n",
            "664 American Indian Museum\n",
            "302 Poliomyelitis and Post-Polio\n",
            "423 Milosevic, Mirjana Markovic\n",
            "665 poverty Africa sub-Sahara\n",
            "303 Hubble Telescope Achievements\n",
            "424 suicides\n",
            "666 Thatcher resignation impact\n",
            "304 Endangered Species (Mammals)\n",
            "425 counterfeiting money\n",
            "667 unmarried-partner households\n",
            "305 Most Dangerous Vehicles\n",
            "426 law enforcement, dogs\n",
            "668 poverty, disease\n",
            "306 African Civilian Deaths\n",
            "427 UV damage, eyes\n",
            "669 Islamic Revolution\n",
            "307 New Hydroelectric Projects\n",
            "428 declining birth rates\n",
            "308 Implant Dentistry\n",
            "429 Legionnaires' disease\n",
            "309 Rap and Crime\n",
            "670 U.S. elections apathy\n",
            "671 Salvation Army benefits\n",
            "430 killer bee attacks\n",
            "672 NRA membership profile\n",
            "310 Radio Waves and Brain Cancer\n",
            "431 robotic technology\n",
            "673 Soviet withdrawal Afghanistan\n",
            "311 Industrial Espionage\n",
            "432 profiling, motorists, police\n",
            "674 Greenpeace prosecuted\n",
            "312 Hydroponics\n",
            "433 Greek, philosophy, stoicism\n",
            "675 Olympics training swimming\n",
            "313 Magnetic Levitation-Maglev\n",
            "434 Estonia, economy\n",
            "676 poppy cultivation\n",
            "314 Marine Vegetation\n",
            "435 curbing population growth\n",
            "677 Leaning Tower of Pisa\n",
            "315 Unexplained Highway Accidents\n",
            "436 railway accidents\n",
            "678 joint custody impact\n",
            "316 Polygamy Polyandry Polygyny\n",
            "437 deregulation, gas, electric\n",
            "679 opening adoption records\n",
            "317 Unsolicited Faxes\n",
            "438 tourism, increase\n",
            "318 Best Retirement Country\n",
            "439 inventions, scientific discoveries\n",
            "319 New Fuel Sources\n",
            "680 immigrants Spanish school\n",
            "681 wind power location\n",
            "440 child labor\n",
            "682 adult immigrants English\n",
            "320 Undersea Fiber Optic Cable\n",
            "441 Lyme disease\n",
            "683 Czechoslovakia breakup\n",
            "321 Women in Parliaments\n",
            "442 heroic acts\n",
            "684 part-time benefits\n",
            "322 International Art Crime\n",
            "443 U.S., investment, Africa\n",
            "685 Oscar winner selection\n",
            "323 Literary/Journalistic Plagiarism\n",
            "444 supercritical fluids\n",
            "686 Argentina pegging dollar\n",
            "324 Argentine/British Relations\n",
            "445 women clergy\n",
            "687 Northern Ireland industry\n",
            "325 Cult Lifestyles\n",
            "446 tourists, violence\n",
            "688 non-U.S. media bias\n",
            "326 Ferry Sinkings\n",
            "447 Stirling engine\n",
            "689 family-planning aid\n",
            "327 Modern Slavery\n",
            "448 ship losses\n",
            "328 Pope Beatifications\n",
            "449 antibiotics ineffectiveness\n",
            "329 Mexican Air Pollution\n",
            "690 college education advantage\n",
            "691 clear-cutting forests\n",
            "450 King Hussein, peace\n",
            "692 prostate cancer detection treatment\n",
            "330 Iran-Iraq Cooperation\n",
            "693 newspapers electronic media\n",
            "331 World Bank Criticism\n",
            "694 compost pile\n",
            "332 Income Tax Evasion\n",
            "695 white collar crime sentence\n",
            "333 Antibiotics Bacteria Disease\n",
            "696 safety plastic surgery\n",
            "334 Export Controls Cryptography\n",
            "697 air traffic controller\n",
            "335 Adoptive Biological Parents\n",
            "698 literacy rates Africa\n",
            "336 Black Bear Attacks\n",
            "699 term limits\n",
            "337 Viral Hepatitis\n",
            "338 Risk of Aspirin\n",
            "339 Alzheimer's Drug Treatment\n",
            "340 Land Mine Ban\n",
            "341 Airport Security\n",
            "342 Diplomatic Expulsion\n",
            "343 Police Deaths\n",
            "344 Abuses of E-Mail\n",
            "345 Overseas Tobacco Sales\n",
            "346 Educational Standards\n",
            "347 Wildlife Extinction\n",
            "348 Agoraphobia\n",
            "349 Metabolism\n"
          ]
        }
      ]
    },
    {
      "cell_type": "markdown",
      "source": [
        "## Evaluating Initial Ranked Lists\n",
        "\n"
      ],
      "metadata": {
        "id": "LoDPnv1b04lP"
      }
    },
    {
      "cell_type": "markdown",
      "source": [
        "When reranking, an important metric is the _recall_ of the initial set of results. This tells us the upper bound or &ldquo;headroom&rdquo; on the improvements that reranking can achieve. If the recall in the initial ranked lists is too low, we know we need to optimize the initial retrieval model.\n",
        "\n",
        "For this assignment, you will work with fixed initial ranked lists from pyserini's BM25 model, but it's still useful to see how much room there is for improvement during reranking.\n",
        "\n",
        "As before, you should process the `qrels` data to find the relevant results for each query."
      ],
      "metadata": {
        "id": "407VkQsK8h6T"
      }
    },
    {
      "cell_type": "code",
      "source": [
        "## TODO [15 points]: Compute Recall@1000 for the dev_hits and test_hits data\n",
        "## and print it out.\n",
        "# Step 1: Organize qrels into a dictionary: qid -> set of relevant docids\n",
        "from collections import defaultdict\n",
        "\n",
        "qrels_dict = defaultdict(set)\n",
        "for qid, _, docid, score in qrels:\n",
        "    if score > 0:\n",
        "        qrels_dict[qid].add(docid)\n",
        "\n",
        "def compute_recall_at_1000(hits, qrels_dict):\n",
        "    total_relevant = 0\n",
        "    retrieved_relevant = 0\n",
        "\n",
        "    for qid, doc_scores in hits.items():\n",
        "        retrieved_docs = set(docid for docid, _ in doc_scores)\n",
        "        relevant_docs = qrels_dict[qid]\n",
        "\n",
        "        retrieved_relevant_docs = retrieved_docs.intersection(relevant_docs)\n",
        "\n",
        "        total_relevant += len(relevant_docs)\n",
        "        retrieved_relevant += len(retrieved_relevant_docs)\n",
        "\n",
        "    recall = retrieved_relevant / total_relevant if total_relevant > 0 else 0\n",
        "    return recall\n",
        "\n",
        "dev_recall = compute_recall_at_1000(dev_hits, qrels_dict)\n",
        "test_recall = compute_recall_at_1000(test_hits, qrels_dict)\n",
        "\n",
        "print(f\"Recall@1000 on Dev Set: {dev_recall:.4f}\")\n",
        "print(f\"Recall@1000 on Test Set: {test_recall:.4f}\")"
      ],
      "metadata": {
        "id": "aGQK-C935EVA",
        "outputId": "ebf01e8d-1b41-43b1-93ab-80ac273c2fb4",
        "colab": {
          "base_uri": "https://localhost:8080/"
        }
      },
      "execution_count": 29,
      "outputs": [
        {
          "output_type": "stream",
          "name": "stdout",
          "text": [
            "Recall@1000 on Dev Set: 0.5888\n",
            "Recall@1000 on Test Set: 0.5909\n"
          ]
        }
      ]
    },
    {
      "cell_type": "markdown",
      "source": [
        "For a given set of top-1000 lists, Recall@1000 will not change after reranking. What will change are ranking-based metrics like MAP and NDCG. You should compute MAP@1000 for the initial `dev_hits` and `test_hits` data."
      ],
      "metadata": {
        "id": "zVcipvGDKd0P"
      }
    },
    {
      "cell_type": "code",
      "source": [
        "## TODO [10 points]: Adapt your code from Homework 3 to compute MAP@1000 for\n",
        "## the dev_hits and test_hits data and print it out.\n",
        "def compute_map_at_1000(hits, qrels_dict):\n",
        "    average_precisions = []\n",
        "\n",
        "    for qid, doc_scores in hits.items():\n",
        "        relevant_docs = qrels_dict[qid]\n",
        "        if not relevant_docs:\n",
        "            continue\n",
        "\n",
        "        num_relevant = 0\n",
        "        precision_sum = 0.0\n",
        "\n",
        "        for rank, (docid, _) in enumerate(doc_scores[:1000], start=1):\n",
        "            if docid in relevant_docs:\n",
        "                num_relevant += 1\n",
        "                precision = num_relevant / rank\n",
        "                precision_sum += precision\n",
        "\n",
        "        average_precision = precision_sum / len(relevant_docs)\n",
        "        average_precisions.append(average_precision)\n",
        "\n",
        "    mean_ap = sum(average_precisions) / len(average_precisions)\n",
        "    return mean_ap\n",
        "\n",
        "map_dev = compute_map_at_1000(dev_hits, qrels_dict)\n",
        "map_test = compute_map_at_1000(test_hits, qrels_dict)\n",
        "\n",
        "print(f\"MAP@1000 on Dev Set: {map_dev:.4f}\")\n",
        "print(f\"MAP@1000 on Test Set: {map_test:.4f}\")"
      ],
      "metadata": {
        "id": "-jQYNXRnK6DL",
        "outputId": "6c3a2f40-dc33-42e5-9855-35a464ff7b0e",
        "colab": {
          "base_uri": "https://localhost:8080/"
        }
      },
      "execution_count": 30,
      "outputs": [
        {
          "output_type": "stream",
          "name": "stdout",
          "text": [
            "MAP@1000 on Dev Set: 0.2426\n",
            "MAP@1000 on Test Set: 0.2637\n"
          ]
        }
      ]
    },
    {
      "cell_type": "markdown",
      "source": [
        "## Reranking Search Results\n",
        "\n",
        "In this final part of the assignment, you should implement a ranking function that, hopefully, improves on the baseline BM25 ranking. You may use the BM25 score for each document as input, as well as the query, of course, and any other properties of the documents you look up with the `reader` object.  After computing a new score for each candidate, re-sort the top-1000 results by your model's score.\n",
        "\n",
        "You may use anything you've learned in this course---or in another course---to build your ranking function. For example, you could implement pseudo-relevance feedback or a relevance model, which would treat the top of each ranked list (e.g., the top 100) as if it were truly relevant and retrain model parameters. You could tune different BM25, query likelihood, or sequential dependence model parameters. You could try to learn different weights or embeddings for different fields in documents. You could use implementations of transformer language models such as BERT or SentenceBERT to score the compatibility of queries and documents. To be clear, you don't have to any of these approaches; you are free to try whatever ideas you like.\n",
        "\n",
        "If your reranking model has tunable parameters, you should tune them on the `dev_hits` set. In the end, you will also evaluate MAP@1000 on the `test_hits` set."
      ],
      "metadata": {
        "id": "MpdecWki1sxo"
      }
    },
    {
      "cell_type": "markdown",
      "source": [
        "**TODO**: Put any explanation of your reranking function here."
      ],
      "metadata": {
        "id": "_mzX46Kj8Vsn"
      }
    },
    {
      "cell_type": "code",
      "source": [
        "## TODO [70 points]: Implement a reranking function that takes a query, the\n",
        "## reader, and an initial ranking and computes new scores.\n",
        "## Like BM25, higher should be better.\n",
        "## If you train parameters or set hyperparameters for this ranking function,\n",
        "## do that here, as well.\n",
        "import math\n",
        "\n",
        "def compute_idf(reader, term, total_docs):\n",
        "    \"\"\"Compute IDF for a term using the index reader.\"\"\"\n",
        "    df = reader.get_term_counts(term)[0]\n",
        "    return math.log((total_docs + 1) / (df + 1))  # Smoothed IDF\n",
        "\n",
        "def rerank(query, reader, initial_ranking):\n",
        "    reranked = []\n",
        "    analyzed_query = reader.analyze(query)\n",
        "    total_docs = reader.stats()['documents']\n",
        "\n",
        "    # Precompute IDF for all query terms\n",
        "    idf_scores = {term: compute_idf(reader, term, total_docs) for term in set(analyzed_query)}\n",
        "\n",
        "    for docid, _ in initial_ranking:\n",
        "        raw_doc = reader.doc(docid).raw()\n",
        "        analyzed_doc = reader.analyze(raw_doc)\n",
        "        doc_term_counts = defaultdict(int)\n",
        "        for token in analyzed_doc:\n",
        "            doc_term_counts[token] += 1\n",
        "\n",
        "        # Compute score: sum of (TF * IDF) for query terms\n",
        "        score = 0.0\n",
        "        for term in analyzed_query:\n",
        "            tf = doc_term_counts[term]\n",
        "            idf = idf_scores.get(term, 0.0)\n",
        "            score += tf * idf\n",
        "\n",
        "        reranked.append((docid, score))\n",
        "\n",
        "    # Sort by new score (descending)\n",
        "    reranked = sorted(reranked, key=lambda x: x[1], reverse=True)\n",
        "    return reranked\n",
        "\n",
        "query_id = 350\n",
        "query_text = topics[query_id]['title']  # or use 'description'\n",
        "\n",
        "initial = dev_hits[query_id]\n",
        "reranked = rerank(query_text, reader, initial)\n",
        "\n",
        "# Print top 10 reranked results\n",
        "for i, (docid, score) in enumerate(reranked[:10], start=1):\n",
        "    print(f\"{i}. {docid} - {score:.4f}\")"
      ],
      "metadata": {
        "id": "MkKXkWQj7mrh",
        "outputId": "d1ef20c5-f87c-4f03-b7d5-3f031a8b43a3",
        "colab": {
          "base_uri": "https://localhost:8080/"
        }
      },
      "execution_count": 49,
      "outputs": [
        {
          "output_type": "stream",
          "name": "stdout",
          "text": [
            "1. FR940602-1-00023 - 914.1033\n",
            "2. FBIS4-22970 - 468.8831\n",
            "3. FT911-3933 - 202.1551\n",
            "4. FT911-3935 - 195.6546\n",
            "5. FBIS4-47124 - 195.6044\n",
            "6. LA101290-0114 - 166.4024\n",
            "7. LA031289-0009 - 155.5820\n",
            "8. FR940324-2-00020 - 150.8346\n",
            "9. FR941021-0-00024 - 147.1898\n",
            "10. LA022189-0015 - 142.3205\n"
          ]
        }
      ]
    },
    {
      "cell_type": "code",
      "source": [
        "## TODO [5 points]: Compute and print out the MAP@1000 score after reranking\n",
        "## on dev_hits and test_hits.\n",
        "def compute_average_precision(ranked_list, relevant_docs):\n",
        "    num_relevant = 0\n",
        "    total_precision = 0.0\n",
        "    for i, (docid, _) in enumerate(ranked_list[:1000]):\n",
        "        if docid in relevant_docs:\n",
        "            num_relevant += 1\n",
        "            total_precision += num_relevant / (i + 1)\n",
        "    return total_precision / len(relevant_docs) if relevant_docs else 0.0\n",
        "\n",
        "def compute_map_at_1000(hits, qrels_dict):\n",
        "    average_precisions = []\n",
        "    for qid, doc_scores in hits.items():\n",
        "        relevant_docs = qrels_dict.get(qid, set())\n",
        "        average_precisions.append(compute_average_precision(doc_scores, relevant_docs))\n",
        "    return sum(average_precisions) / len(average_precisions)\n",
        "\n",
        "# Create new reranked versions of the full dev and test sets\n",
        "reranked_dev = {}\n",
        "for qid in dev_hits:\n",
        "    query = topics[qid]['title']\n",
        "    reranked_dev[qid] = rerank(query, reader, dev_hits[qid])\n",
        "\n",
        "reranked_test = {}\n",
        "for qid in test_hits:\n",
        "    query = topics[qid]['title']\n",
        "    reranked_test[qid] = rerank(query, reader, test_hits[qid])\n",
        "\n",
        "# Compute MAP@1000\n",
        "map_dev = compute_map_at_1000(reranked_dev, qrels_dict)\n",
        "map_test = compute_map_at_1000(reranked_test, qrels_dict)\n",
        "\n",
        "print(f\"MAP@1000 after reranking (dev): {map_dev:.4f}\")\n",
        "print(f\"MAP@1000 after reranking (test): {map_test:.4f}\")"
      ],
      "metadata": {
        "id": "me4Pnxgw79dE",
        "outputId": "ebc2ce64-9503-4d1c-bca8-afdd0d01b9df",
        "colab": {
          "base_uri": "https://localhost:8080/"
        }
      },
      "execution_count": 54,
      "outputs": [
        {
          "output_type": "stream",
          "name": "stdout",
          "text": [
            "MAP@1000 after reranking (dev): 0.0892\n",
            "MAP@1000 after reranking (test): 0.1016\n"
          ]
        }
      ]
    }
  ]
}